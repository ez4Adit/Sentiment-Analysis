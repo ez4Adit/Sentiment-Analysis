{
  "nbformat": 4,
  "nbformat_minor": 0,
  "metadata": {
    "colab": {
      "name": "Bidrectional LSTM on IMDb.ipynb",
      "provenance": []
    },
    "kernelspec": {
      "name": "python3",
      "display_name": "Python 3"
    },
    "language_info": {
      "name": "python"
    }
  },
  "cells": [
    {
      "cell_type": "code",
      "execution_count": 1,
      "metadata": {
        "id": "nx8PCX3fbigN"
      },
      "outputs": [],
      "source": [
        "import tensorflow as tf\n",
        "import numpy as np"
      ]
    },
    {
      "cell_type": "code",
      "source": [
        "max_features = 20000\n",
        "max_len = 200\n",
        "(x_train, y_train), (x_val, y_val) = tf.keras.datasets.imdb.load_data(num_words = max_features)\n",
        "print(len(x_train))\n",
        "print(len(x_val))\n",
        "print(len(y_train))\n",
        "print(len(y_val))"
      ],
      "metadata": {
        "colab": {
          "base_uri": "https://localhost:8080/"
        },
        "id": "HAh_dDlLo_Lt",
        "outputId": "57806314-4621-4ef6-ad97-09750da6aa14"
      },
      "execution_count": 3,
      "outputs": [
        {
          "output_type": "stream",
          "name": "stdout",
          "text": [
            "25000\n",
            "25000\n",
            "25000\n",
            "25000\n"
          ]
        }
      ]
    },
    {
      "cell_type": "code",
      "source": [
        "inputs = tf.keras.Input(shape = (None, ))\n",
        "x = tf.keras.layers.Embedding(max_features, 128)(inputs)\n",
        "x = tf.keras.layers.Bidirectional(tf.keras.layers.LSTM(64, return_sequences = True))(x)\n",
        "x = tf.keras.layers.Bidirectional(tf.keras.layers.LSTM(64, ))(x)\n",
        "outputs = tf.keras.layers.Dense(1, activation = \"sigmoid\")(x)\n",
        "model = tf.keras.Model(inputs, outputs)\n",
        "model.summary()\n"
      ],
      "metadata": {
        "colab": {
          "base_uri": "https://localhost:8080/"
        },
        "id": "xw1NTOcfHi-L",
        "outputId": "05ff0f6e-f93a-4962-a831-cd3615a43ee6"
      },
      "execution_count": 11,
      "outputs": [
        {
          "output_type": "stream",
          "name": "stdout",
          "text": [
            "Model: \"model\"\n",
            "_________________________________________________________________\n",
            " Layer (type)                Output Shape              Param #   \n",
            "=================================================================\n",
            " input_7 (InputLayer)        [(None, None)]            0         \n",
            "                                                                 \n",
            " embedding_4 (Embedding)     (None, None, 128)         2560000   \n",
            "                                                                 \n",
            " bidirectional (Bidirectiona  (None, None, 128)        98816     \n",
            " l)                                                              \n",
            "                                                                 \n",
            " bidirectional_1 (Bidirectio  (None, 128)              98816     \n",
            " nal)                                                            \n",
            "                                                                 \n",
            " dense (Dense)               (None, 1)                 129       \n",
            "                                                                 \n",
            "=================================================================\n",
            "Total params: 2,757,761\n",
            "Trainable params: 2,757,761\n",
            "Non-trainable params: 0\n",
            "_________________________________________________________________\n"
          ]
        }
      ]
    },
    {
      "cell_type": "code",
      "source": [
        "x_train = tf.keras.preprocessing.sequence.pad_sequences(x_train, maxlen = max_len)\n",
        "x_val = tf.keras.preprocessing.sequence.pad_sequences(x_val, maxlen = max_len)\n",
        "print(len(x_train))"
      ],
      "metadata": {
        "colab": {
          "base_uri": "https://localhost:8080/"
        },
        "id": "nCqYFcNGKeHY",
        "outputId": "ee425f76-a1fc-4b1a-e735-24a7ca7a1655"
      },
      "execution_count": 13,
      "outputs": [
        {
          "output_type": "stream",
          "name": "stdout",
          "text": [
            "25000\n"
          ]
        }
      ]
    },
    {
      "cell_type": "code",
      "source": [
        "model.compile(optimizer = \"adam\", loss = \"BinaryCrossentropy\", metrics = [\"accuracy\"])\n",
        "model.fit(x_train, y_train, batch_size = 32, epochs = 2, validation_data = (x_val, y_val))"
      ],
      "metadata": {
        "colab": {
          "base_uri": "https://localhost:8080/"
        },
        "id": "OXVIT2jbK3MZ",
        "outputId": "41929d32-c952-47db-fd04-0a0a0a6a4e89"
      },
      "execution_count": 14,
      "outputs": [
        {
          "output_type": "stream",
          "name": "stdout",
          "text": [
            "Epoch 1/2\n",
            "782/782 [==============================] - 450s 566ms/step - loss: 0.4113 - accuracy: 0.8102 - val_loss: 0.3343 - val_accuracy: 0.8590\n",
            "Epoch 2/2\n",
            "782/782 [==============================] - 441s 564ms/step - loss: 0.2063 - accuracy: 0.9218 - val_loss: 0.4031 - val_accuracy: 0.8217\n"
          ]
        },
        {
          "output_type": "execute_result",
          "data": {
            "text/plain": [
              "<keras.callbacks.History at 0x7f714075bd90>"
            ]
          },
          "metadata": {},
          "execution_count": 14
        }
      ]
    }
  ]
}